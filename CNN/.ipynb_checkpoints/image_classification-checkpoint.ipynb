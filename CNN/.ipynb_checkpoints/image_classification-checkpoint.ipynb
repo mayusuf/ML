{
 "cells": [
  {
   "cell_type": "code",
   "execution_count": 49,
   "metadata": {
    "collapsed": false
   },
   "outputs": [
    {
     "name": "stdout",
     "output_type": "stream",
     "text": [
      "['Bobolink_0004_2563658093.jpg', 'Bobolink_0006_323626208.jpg', 'Bobolink_0010_510123359.jpg', 'Bobolink_0001_145827142.jpg', 'Bobolink_0008_2578264625.jpg', 'Bobolink_0012_2577892497.jpg', 'Bobolink_0011_2578725502.jpg']\n",
      "['Black_footed_Albatross_0017_1256111444.jpg', 'Black_footed_Albatross_0022_2790657121.jpg', 'Black_footed_Albatross_0019_416160254.jpg', 'Black_footed_Albatross_0018_2443206789.jpg', 'Black_footed_Albatross_0010_819241733.jpg', 'Black_footed_Albatross_0002_2293084168.jpg', 'Black_footed_Albatross_0026_2445548469.jpg']\n",
      "['Mangrove_Cuckoo_0005_392495593.jpg', 'Mangrove_Cuckoo_0025_2439925778.jpg', 'Mangrove_Cuckoo_0009_2402618364.jpg', 'Mangrove_Cuckoo_0007_2407156313.jpg', 'Mangrove_Cuckoo_0006_2113811170.jpg', 'Mangrove_Cuckoo_0003_2196243646.jpg', 'Mangrove_Cuckoo_0030_2192400688.jpg']\n",
      "['Frigatebird_0002_2483363870.jpg', 'Frigatebird_0006_663848739.jpg', 'Frigatebird_0003_1478659470.jpg', 'Frigatebird_0004_484372823.jpg', 'Frigatebird_0005_271062043.jpg', 'Frigatebird_0007_1478401761.jpg', 'Frigatebird_0001_2846955695.jpg']\n",
      "['Rusty_Blackbird_0013_62306687.jpg', 'Rusty_Blackbird_0006_1847962479.jpg', 'Rusty_Blackbird_0019_2281281703.jpg', 'Rusty_Blackbird_0022_968932549.jpg', 'Rusty_Blackbird_0016_344778530.jpg', 'Rusty_Blackbird_0004_1848793704.jpg', 'Rusty_Blackbird_0002_2170471346.jpg']\n"
     ]
    }
   ],
   "source": [
    "#importing Keras, Library for deep learning \n",
    "from keras.models import Sequential\n",
    "from keras.layers.core import Dense, Dropout, Activation, Flatten\n",
    "from keras.layers.convolutional import Convolution2D, MaxPooling2D\n",
    "from keras.utils import np_utils\n",
    "from keras.preprocessing.image import  img_to_array\n",
    "from keras import backend as K\n",
    "K.set_image_dim_ordering('th')\n",
    "\n",
    "import numpy as np\n",
    "\n",
    "# Image manipulations and arranging data\n",
    "import os\n",
    "from PIL import Image\n",
    "import theano\n",
    "theano.config.optimizer=\"None\"\n",
    "#Sklearn to modify the data\n",
    "\n",
    "from sklearn.cross_validation import train_test_split\n",
    "\n",
    "os.chdir(os.getcwd())\n",
    "\n",
    "#print(os.getcwd())\n",
    "\n",
    "# input image dimensions\n",
    "m,n = 50,50\n",
    "\n",
    "path1=\"input\"\n",
    "path2=\"data\"\n",
    "\n",
    "#print(os.sep)\n",
    "\n",
    "classes=os.listdir(path2)\n",
    "#print(classes)\n",
    "\n",
    "x=[]\n",
    "y=[]\n",
    "\n",
    "for fol in classes:\n",
    "    #print(fol)\n",
    "    imgfiles=os.listdir(path2+os.sep+fol);\n",
    "    #print(imgfiles)\n",
    "    for img in imgfiles:\n",
    "        im=Image.open(path2+os.sep+fol+os.sep+img);\n",
    "        im=im.convert(mode='RGB')\n",
    "        imrs=im.resize((m,n))\n",
    "        imrs=img_to_array(imrs)/255;\n",
    "        imrs=imrs.transpose(2,0,1);\n",
    "        imrs=imrs.reshape(3,m,n);\n",
    "        x.append(imrs)\n",
    "        y.append(fol)\n",
    "        \n",
    "x=np.array(x);\n",
    "y=np.array(y);"
   ]
  },
  {
   "cell_type": "code",
   "execution_count": null,
   "metadata": {
    "collapsed": true
   },
   "outputs": [],
   "source": []
  }
 ],
 "metadata": {
  "kernelspec": {
   "display_name": "Python 3",
   "language": "python",
   "name": "python3"
  },
  "language_info": {
   "codemirror_mode": {
    "name": "ipython",
    "version": 3
   },
   "file_extension": ".py",
   "mimetype": "text/x-python",
   "name": "python",
   "nbconvert_exporter": "python",
   "pygments_lexer": "ipython3",
   "version": "3.6.3"
  }
 },
 "nbformat": 4,
 "nbformat_minor": 2
}
