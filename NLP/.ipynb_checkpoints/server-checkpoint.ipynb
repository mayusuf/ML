{
 "cells": [
  {
   "cell_type": "code",
   "execution_count": 13,
   "metadata": {
    "collapsed": false
   },
   "outputs": [
    {
     "name": "stderr",
     "output_type": "stream",
     "text": [
      "No value for search_text was available on the provided input\n"
     ]
    },
    {
     "name": "stdout",
     "output_type": "stream",
     "text": [
      "[nltk_data] Downloading package averaged_perceptron_tagger to\n",
      "[nltk_data]     /home/yusuf/nltk_data...\n",
      "[nltk_data]   Package averaged_perceptron_tagger is already up-to-\n",
      "[nltk_data]       date!\n",
      "[nltk_data] Downloading package punkt to /home/yusuf/nltk_data...\n",
      "[nltk_data]   Package punkt is already up-to-date!\n",
      "[nltk_data] Downloading package stopwords to /home/yusuf/nltk_data...\n",
      "[nltk_data]   Package stopwords is already up-to-date!\n"
     ]
    }
   ],
   "source": [
    "from SimpleWebSocketServer import SimpleWebSocketServer, WebSocket\n",
    "%run chatbot.ipynb\n",
    "\n",
    "#from chatbot.ipynb import get_response\n",
    "\n",
    "class ChatServer(WebSocket):\n",
    "\n",
    "    def handleMessage(self):\n",
    "        # echo message back to client\n",
    "        message = self.data\n",
    "        response = get_response(message)\n",
    "        self.sendMessage(response)\n",
    "\n",
    "    def handleConnected(self):\n",
    "        print(self.address, 'connected')\n",
    "\n",
    "    def handleClose(self):\n",
    "        print(self.address, 'closed')\n",
    "\n",
    "\n",
    "server = SimpleWebSocketServer('', 8000, ChatServer)\n",
    "server.serveforever()"
   ]
  }
 ],
 "metadata": {
  "kernelspec": {
   "display_name": "Python 3",
   "language": "python",
   "name": "python3"
  },
  "language_info": {
   "codemirror_mode": {
    "name": "ipython",
    "version": 3
   },
   "file_extension": ".py",
   "mimetype": "text/x-python",
   "name": "python",
   "nbconvert_exporter": "python",
   "pygments_lexer": "ipython3",
   "version": "3.6.3"
  }
 },
 "nbformat": 4,
 "nbformat_minor": 2
}
