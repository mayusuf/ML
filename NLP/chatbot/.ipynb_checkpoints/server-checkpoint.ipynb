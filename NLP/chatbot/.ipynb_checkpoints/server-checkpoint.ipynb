{
 "cells": [
  {
   "cell_type": "code",
   "execution_count": null,
   "metadata": {
    "collapsed": false
   },
   "outputs": [
    {
     "name": "stdout",
     "output_type": "stream",
     "text": [
      "('::1', 53122, 0, 0) connected\n"
     ]
    }
   ],
   "source": [
    "from SimpleWebSocketServer import SimpleWebSocketServer, WebSocket\n",
    "%run chatbot.ipynb\n",
    "\n",
    "#from chatbot.ipynb import get_response\n",
    "\n",
    "class ChatServer(WebSocket):\n",
    "\n",
    "    def handleMessage(self):\n",
    "        # echo message back to client\n",
    "        message = self.data\n",
    "        response = get_response(message)\n",
    "        self.sendMessage(response)\n",
    "\n",
    "    def handleConnected(self):\n",
    "        print(self.address, 'connected')\n",
    "\n",
    "    def handleClose(self):\n",
    "        print(self.address, 'closed')\n",
    "\n",
    "\n",
    "server = SimpleWebSocketServer('', 8080, ChatServer)\n",
    "server.serveforever()"
   ]
  }
 ],
 "metadata": {
  "kernelspec": {
   "display_name": "Python 3",
   "language": "python",
   "name": "python3"
  },
  "language_info": {
   "codemirror_mode": {
    "name": "ipython",
    "version": 3
   },
   "file_extension": ".py",
   "mimetype": "text/x-python",
   "name": "python",
   "nbconvert_exporter": "python",
   "pygments_lexer": "ipython3",
   "version": "3.6.3"
  }
 },
 "nbformat": 4,
 "nbformat_minor": 2
}
