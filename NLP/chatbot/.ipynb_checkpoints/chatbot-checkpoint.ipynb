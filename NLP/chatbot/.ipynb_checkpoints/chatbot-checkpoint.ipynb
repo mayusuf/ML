{
 "cells": [
  {
   "cell_type": "code",
   "execution_count": 1,
   "metadata": {
    "collapsed": false
   },
   "outputs": [],
   "source": [
    "from chatterbot import ChatBot\n",
    "from chatterbot.trainers import ListTrainer\n",
    "\n",
    "\n",
    "def get_response(usrText):\n",
    "    bot = ChatBot('Bot',\n",
    "          storage_adapter='chatterbot.storage.SQLStorageAdapter',\n",
    "    logic_adapters=[\n",
    "        {\n",
    "            'import_path': 'chatterbot.logic.BestMatch',\n",
    "            'default_response': 'I am sorry, but I do not understand.',\n",
    "            'threshold': 0.70\n",
    "        }\n",
    "    ])\n",
    "    trainer = ListTrainer(bot)\n",
    "    while True:\n",
    "        if usrText.strip()!= 'Bye':\n",
    "            result = bot.get_response(usrText)                        \n",
    "            reply = str(result)\n",
    "            return(reply)\n",
    "        if usrText.strip() == 'Bye':\n",
    "            return('Bye')\n",
    "            break"
   ]
  }
 ],
 "metadata": {
  "kernelspec": {
   "display_name": "Python 3",
   "language": "python",
   "name": "python3"
  },
  "language_info": {
   "codemirror_mode": {
    "name": "ipython",
    "version": 3
   },
   "file_extension": ".py",
   "mimetype": "text/x-python",
   "name": "python",
   "nbconvert_exporter": "python",
   "pygments_lexer": "ipython3",
   "version": "3.6.3"
  }
 },
 "nbformat": 4,
 "nbformat_minor": 2
}
